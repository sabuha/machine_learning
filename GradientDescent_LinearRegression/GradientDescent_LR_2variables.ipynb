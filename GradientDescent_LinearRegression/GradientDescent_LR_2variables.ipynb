{
 "cells": [
  {
   "cell_type": "markdown",
   "metadata": {
    "collapsed": false
   },
   "source": [
    "This notebook shows an application of the gradient descent algorithm, to fit a linear regression model with 2 parameters (i.e. finding the slope and the intercept of the regression line to get the best estimation)."
   ]
  },
  {
   "cell_type": "code",
   "execution_count": 1,
   "metadata": {
    "collapsed": false
   },
   "outputs": [],
   "source": [
    "import pandas as pd\n",
    "import matplotlib.pyplot as plt\n",
    "import numpy as np\n",
    "import scipy.stats as stats\n",
    "from IPython.display import display\n",
    "\n",
    "%matplotlib inline"
   ]
  },
  {
   "cell_type": "markdown",
   "metadata": {},
   "source": [
    "The data consists in a sample of 20 observations. For each individual, we have the age, the weight and the systolic pressure. Column \"age\" is removed from dataframe for simplicity"
   ]
  },
  {
   "cell_type": "code",
   "execution_count": 2,
   "metadata": {
    "collapsed": false
   },
   "outputs": [
    {
     "data": {
      "text/html": [
       "<div>\n",
       "<table border=\"1\" class=\"dataframe\">\n",
       "  <thead>\n",
       "    <tr style=\"text-align: right;\">\n",
       "      <th></th>\n",
       "      <th>systolic_press</th>\n",
       "      <th>weight</th>\n",
       "    </tr>\n",
       "  </thead>\n",
       "  <tbody>\n",
       "    <tr>\n",
       "      <th>0</th>\n",
       "      <td>132</td>\n",
       "      <td>78</td>\n",
       "    </tr>\n",
       "    <tr>\n",
       "      <th>1</th>\n",
       "      <td>140</td>\n",
       "      <td>80</td>\n",
       "    </tr>\n",
       "    <tr>\n",
       "      <th>2</th>\n",
       "      <td>143</td>\n",
       "      <td>83</td>\n",
       "    </tr>\n",
       "    <tr>\n",
       "      <th>3</th>\n",
       "      <td>153</td>\n",
       "      <td>88</td>\n",
       "    </tr>\n",
       "    <tr>\n",
       "      <th>4</th>\n",
       "      <td>162</td>\n",
       "      <td>96</td>\n",
       "    </tr>\n",
       "  </tbody>\n",
       "</table>\n",
       "</div>"
      ],
      "text/plain": [
       "   systolic_press  weight\n",
       "0             132      78\n",
       "1             140      80\n",
       "2             143      83\n",
       "3             153      88\n",
       "4             162      96"
      ]
     },
     "metadata": {},
     "output_type": "display_data"
    },
    {
     "data": {
      "text/html": [
       "<div>\n",
       "<table border=\"1\" class=\"dataframe\">\n",
       "  <thead>\n",
       "    <tr style=\"text-align: right;\">\n",
       "      <th></th>\n",
       "      <th>systolic_press</th>\n",
       "      <th>weight</th>\n",
       "    </tr>\n",
       "  </thead>\n",
       "  <tbody>\n",
       "    <tr>\n",
       "      <th>count</th>\n",
       "      <td>20.000000</td>\n",
       "      <td>20.00000</td>\n",
       "    </tr>\n",
       "    <tr>\n",
       "      <th>mean</th>\n",
       "      <td>146.350000</td>\n",
       "      <td>85.50000</td>\n",
       "    </tr>\n",
       "    <tr>\n",
       "      <th>std</th>\n",
       "      <td>14.925341</td>\n",
       "      <td>10.17996</td>\n",
       "    </tr>\n",
       "    <tr>\n",
       "      <th>min</th>\n",
       "      <td>124.000000</td>\n",
       "      <td>66.00000</td>\n",
       "    </tr>\n",
       "    <tr>\n",
       "      <th>25%</th>\n",
       "      <td>131.500000</td>\n",
       "      <td>79.50000</td>\n",
       "    </tr>\n",
       "    <tr>\n",
       "      <th>50%</th>\n",
       "      <td>146.500000</td>\n",
       "      <td>85.00000</td>\n",
       "    </tr>\n",
       "    <tr>\n",
       "      <th>75%</th>\n",
       "      <td>159.750000</td>\n",
       "      <td>92.50000</td>\n",
       "    </tr>\n",
       "    <tr>\n",
       "      <th>max</th>\n",
       "      <td>168.000000</td>\n",
       "      <td>104.00000</td>\n",
       "    </tr>\n",
       "  </tbody>\n",
       "</table>\n",
       "</div>"
      ],
      "text/plain": [
       "       systolic_press     weight\n",
       "count       20.000000   20.00000\n",
       "mean       146.350000   85.50000\n",
       "std         14.925341   10.17996\n",
       "min        124.000000   66.00000\n",
       "25%        131.500000   79.50000\n",
       "50%        146.500000   85.00000\n",
       "75%        159.750000   92.50000\n",
       "max        168.000000  104.00000"
      ]
     },
     "metadata": {},
     "output_type": "display_data"
    }
   ],
   "source": [
    "df=pd.read_csv(\"systolic_blood_press.csv\")\n",
    "del df['age']\n",
    "display(df.head())\n",
    "display(df.describe())\n",
    "m = len(df) # number of observations"
   ]
  },
  {
   "cell_type": "markdown",
   "metadata": {},
   "source": [
    "A scatter plot between weight and systolic pressure shows a strong correlation. This can be modelized with a regression line (y= a + bx) where a and b are the parameters to find. The instruction <i>stats.linregress</i> finds the best regression line so that the SSR (sum of squared residuals) is the lowest possible."
   ]
  },
  {
   "cell_type": "code",
   "execution_count": 3,
   "metadata": {
    "collapsed": false
   },
   "outputs": [
    {
     "name": "stdout",
     "output_type": "stream",
     "text": [
      "Slope from scipy.stats: 1.35830370747\n",
      "Intercept from scipy.stats: 30.2150330117\n"
     ]
    },
    {
     "data": {
      "image/png": "[encoded data removed]",
      "text/plain": [
       "<matplotlib.figure.Figure at 0x11b6e54e0>"
      ]
     },
     "metadata": {},
     "output_type": "display_data"
    }
   ],
   "source": [
    "# Fit regression model\n",
    "plt.scatter(x=df.weight, y=df.systolic_press)\n",
    "res=stats.linregress(df.weight, df.systolic_press)\n",
    "\n",
    "# Plot the regression line\n",
    "abline_values = [res.slope*i+res.intercept for i in df.weight]\n",
    "plt.plot(df.weight, abline_values, color=\"red\")\n",
    "plt.xlabel(\"Weight\")\n",
    "plt.ylabel(\"Systolic Pressure\")\n",
    "\n",
    "# Values found by scipy.stats\n",
    "print(\"Slope from scipy.stats:\", res.slope)\n",
    "print(\"Intercept from scipy.stats:\", res.intercept)"
   ]
  },
  {
   "cell_type": "markdown",
   "metadata": {},
   "source": [
    "The more the line fits, the less SSR is, and vice versa. This can be expressed as a cost function. This last a and b parameters correspond to intercept and slope respectively, and outputs the corresponding SSR. This function has a minimum SSR corresponding to the best parameter estimate"
   ]
  },
  {
   "cell_type": "code",
   "execution_count": 4,
   "metadata": {
    "collapsed": false
   },
   "outputs": [],
   "source": [
    "def cost_function(a,b):\n",
    "    error_squared=0\n",
    "    # iterate through the sample and sum the squares of the distance between each point to the regression line\n",
    "    for row in df.itertuples():\n",
    "        index, systolic_press, weight = row\n",
    "        estimated_y=a + b*weight\n",
    "        error_squared += np.square(systolic_press-estimated_y)\n",
    "    return error_squared/len(df)"
   ]
  },
  {
   "cell_type": "code",
   "execution_count": 5,
   "metadata": {
    "collapsed": false
   },
   "outputs": [
    {
     "data": {
      "text/plain": [
       "<matplotlib.text.Text at 0x11ef74828>"
      ]
     },
     "execution_count": 5,
     "metadata": {},
     "output_type": "execute_result"
    },
    {
     "data": {
      "image/png": "[encoded data removed]",
      "text/plain": [
       "<matplotlib.figure.Figure at 0x11ea61438>"
      ]
     },
     "metadata": {},
     "output_type": "display_data"
    }
   ],
   "source": [
    "# Visualize the cost function for parameter a (intercept)\n",
    "cost_x = np.arange(res.intercept-0.5, res.intercept+0.55, 0.05)\n",
    "cost_y = [cost_function(i, res.slope) for i in cost_x]\n",
    "\n",
    "plt.plot(cost_x, cost_y)\n",
    "plt.plot([res.intercept, res.intercept], [29.9, 30.30])\n",
    "plt.xlabel(\"parameter a\")\n",
    "plt.ylabel(\"SSR/m\")"
   ]
  },
  {
   "cell_type": "code",
   "execution_count": 6,
   "metadata": {
    "collapsed": false
   },
   "outputs": [
    {
     "data": {
      "text/plain": [
       "<matplotlib.text.Text at 0x11eff2f60>"
      ]
     },
     "execution_count": 6,
     "metadata": {},
     "output_type": "execute_result"
    },
    {
     "data": {
      "image/png": "[encoded data removed]",
      "text/plain": [
       "<matplotlib.figure.Figure at 0x11ea5a0f0>"
      ]
     },
     "metadata": {},
     "output_type": "display_data"
    }
   ],
   "source": [
    "# Visualize the cost function for parameter b (slope)\n",
    "cost_x = np.arange(res.slope-0.5, res.slope+0.55, 0.05)\n",
    "cost_y = [cost_function(res.intercept, i) for i in cost_x]\n",
    "\n",
    "plt.plot(cost_x, cost_y)\n",
    "plt.plot([res.slope, res.slope], [-10, 1750])\n",
    "plt.xlabel(\"parameter b\")\n",
    "plt.ylabel(\"SSR/m\")"
   ]
  },
  {
   "cell_type": "markdown",
   "metadata": {},
   "source": [
    "All the point of gradient descent is to find these minimums. Because the cost function is convex, it has a unique minimum which is local and global. Thus, one could use its derivative to find its minimum. Gradient descent starts with an initial guess and improves it at each iteration, so that it tends to the value minimizing the cost function. While approaching the minimum, the slope of the cost function tends to null, and gradients become smaller and smaller (convergence).\n",
    "The example below suffers from high iterations and low learning rates. The following example resolves this issue by scaling the weight in a [0,1] range"
   ]
  },
  {
   "cell_type": "code",
   "execution_count": 7,
   "metadata": {
    "collapsed": false
   },
   "outputs": [],
   "source": [
    "def gradient_descent_iter(a,b):\n",
    "    m=len(df)\n",
    "    max_iteration = 5000 # very high number of iteration required to converge!\n",
    "    iter = 0\n",
    "    while True:\n",
    "        iter += 1\n",
    "        # at each gradient, it iterates through the entire sample (function sum below)\n",
    "        # Note that for the derivative of the intercept a, we do not multiply by the weight, because the partial\n",
    "        # derivative of a+b*weight with respect to a is 1, while in respect to b it would be weight\n",
    "        deriva = sum([(a + b*df.weight[i] - df.systolic_press[i]) for i in range(m)]) / m\n",
    "        derivb = sum([(a + b*df.weight[i] - df.systolic_press[i])*df.weight[i] for i in range(m)]) / m\n",
    "        \n",
    "        # While estimating these values separately, it converges very quickly, but together much more iterations\n",
    "        # are required. The parameters influence each other. Note the different learning rates (0.3 and 0.0001)\n",
    "        a = a - (0.3*deriva) \n",
    "        b = b - (0.0001*derivb)\n",
    "        if (iter > max_iteration):\n",
    "            return [a,b]"
   ]
  },
  {
   "cell_type": "code",
   "execution_count": 8,
   "metadata": {
    "collapsed": false
   },
   "outputs": [
    {
     "name": "stdout",
     "output_type": "stream",
     "text": [
      "Found by gradient descent: 30.2150408598 1.35830361655\n",
      "From scipy: 30.2150330117 1.35830370747\n"
     ]
    }
   ],
   "source": [
    "a,b = gradient_descent_iter(0, 0)\n",
    "print(\"Found by gradient descent:\", a,b)\n",
    "print(\"From scipy:\", res.intercept, res.slope)"
   ]
  },
  {
   "cell_type": "markdown",
   "metadata": {},
   "source": [
    "Let's normalize the weight and see if it helps. The normalized y value \"norm_df.systolic_press\" must not be used, to keep predictions correct. It has been scaled here for demonstration"
   ]
  },
  {
   "cell_type": "code",
   "execution_count": 9,
   "metadata": {
    "collapsed": false
   },
   "outputs": [
    {
     "data": {
      "text/html": [
       "<div>\n",
       "<table border=\"1\" class=\"dataframe\">\n",
       "  <thead>\n",
       "    <tr style=\"text-align: right;\">\n",
       "      <th></th>\n",
       "      <th>systolic_press</th>\n",
       "      <th>weight</th>\n",
       "    </tr>\n",
       "  </thead>\n",
       "  <tbody>\n",
       "    <tr>\n",
       "      <th>0</th>\n",
       "      <td>0.181818</td>\n",
       "      <td>0.315789</td>\n",
       "    </tr>\n",
       "    <tr>\n",
       "      <th>1</th>\n",
       "      <td>0.363636</td>\n",
       "      <td>0.368421</td>\n",
       "    </tr>\n",
       "    <tr>\n",
       "      <th>2</th>\n",
       "      <td>0.431818</td>\n",
       "      <td>0.447368</td>\n",
       "    </tr>\n",
       "    <tr>\n",
       "      <th>3</th>\n",
       "      <td>0.659091</td>\n",
       "      <td>0.578947</td>\n",
       "    </tr>\n",
       "    <tr>\n",
       "      <th>4</th>\n",
       "      <td>0.863636</td>\n",
       "      <td>0.789474</td>\n",
       "    </tr>\n",
       "    <tr>\n",
       "      <th>5</th>\n",
       "      <td>0.681818</td>\n",
       "      <td>0.605263</td>\n",
       "    </tr>\n",
       "    <tr>\n",
       "      <th>6</th>\n",
       "      <td>1.000000</td>\n",
       "      <td>0.894737</td>\n",
       "    </tr>\n",
       "    <tr>\n",
       "      <th>7</th>\n",
       "      <td>0.295455</td>\n",
       "      <td>0.500000</td>\n",
       "    </tr>\n",
       "    <tr>\n",
       "      <th>8</th>\n",
       "      <td>0.568182</td>\n",
       "      <td>0.500000</td>\n",
       "    </tr>\n",
       "    <tr>\n",
       "      <th>9</th>\n",
       "      <td>0.795455</td>\n",
       "      <td>0.736842</td>\n",
       "    </tr>\n",
       "    <tr>\n",
       "      <th>10</th>\n",
       "      <td>0.545455</td>\n",
       "      <td>0.605263</td>\n",
       "    </tr>\n",
       "    <tr>\n",
       "      <th>11</th>\n",
       "      <td>0.090909</td>\n",
       "      <td>0.263158</td>\n",
       "    </tr>\n",
       "    <tr>\n",
       "      <th>12</th>\n",
       "      <td>0.954545</td>\n",
       "      <td>0.842105</td>\n",
       "    </tr>\n",
       "    <tr>\n",
       "      <th>13</th>\n",
       "      <td>0.477273</td>\n",
       "      <td>0.421053</td>\n",
       "    </tr>\n",
       "    <tr>\n",
       "      <th>14</th>\n",
       "      <td>0.000000</td>\n",
       "      <td>0.157895</td>\n",
       "    </tr>\n",
       "    <tr>\n",
       "      <th>15</th>\n",
       "      <td>0.954545</td>\n",
       "      <td>0.684211</td>\n",
       "    </tr>\n",
       "    <tr>\n",
       "      <th>16</th>\n",
       "      <td>0.113636</td>\n",
       "      <td>0.105263</td>\n",
       "    </tr>\n",
       "    <tr>\n",
       "      <th>17</th>\n",
       "      <td>0.090909</td>\n",
       "      <td>0.000000</td>\n",
       "    </tr>\n",
       "    <tr>\n",
       "      <th>18</th>\n",
       "      <td>0.136364</td>\n",
       "      <td>0.447368</td>\n",
       "    </tr>\n",
       "    <tr>\n",
       "      <th>19</th>\n",
       "      <td>0.954545</td>\n",
       "      <td>1.000000</td>\n",
       "    </tr>\n",
       "  </tbody>\n",
       "</table>\n",
       "</div>"
      ],
      "text/plain": [
       "    systolic_press    weight\n",
       "0         0.181818  0.315789\n",
       "1         0.363636  0.368421\n",
       "2         0.431818  0.447368\n",
       "3         0.659091  0.578947\n",
       "4         0.863636  0.789474\n",
       "5         0.681818  0.605263\n",
       "6         1.000000  0.894737\n",
       "7         0.295455  0.500000\n",
       "8         0.568182  0.500000\n",
       "9         0.795455  0.736842\n",
       "10        0.545455  0.605263\n",
       "11        0.090909  0.263158\n",
       "12        0.954545  0.842105\n",
       "13        0.477273  0.421053\n",
       "14        0.000000  0.157895\n",
       "15        0.954545  0.684211\n",
       "16        0.113636  0.105263\n",
       "17        0.090909  0.000000\n",
       "18        0.136364  0.447368\n",
       "19        0.954545  1.000000"
      ]
     },
     "metadata": {},
     "output_type": "display_data"
    }
   ],
   "source": [
    "norm_df = (df-df.min())/(df.max()-df.min())\n",
    "display(norm_df)"
   ]
  },
  {
   "cell_type": "code",
   "execution_count": 10,
   "metadata": {
    "collapsed": false
   },
   "outputs": [
    {
     "name": "stdout",
     "output_type": "stream",
     "text": [
      "Slope from scipy.stats: 51.6155408837\n",
      "Intercept from scipy.stats: 119.863077704\n"
     ]
    },
    {
     "data": {
      "image/png": "[encoded data removed]",
      "text/plain": [
       "<matplotlib.figure.Figure at 0x11eef00b8>"
      ]
     },
     "metadata": {},
     "output_type": "display_data"
    }
   ],
   "source": [
    "# Fit regression model with scaled weight\n",
    "plt.scatter(x=norm_df.weight, y=df.systolic_press)\n",
    "res=stats.linregress(norm_df.weight, df.systolic_press)\n",
    "\n",
    "# Plot the regression line\n",
    "abline_values = [res.slope*i+res.intercept for i in norm_df.weight]\n",
    "plt.plot(norm_df.weight, abline_values, color=\"red\")\n",
    "plt.xlabel(\"Weight\")\n",
    "plt.ylabel(\"Systolic Pressure\")\n",
    "\n",
    "# Values found by scipy.stats\n",
    "print(\"Slope from scipy.stats:\", res.slope)\n",
    "print(\"Intercept from scipy.stats:\", res.intercept)"
   ]
  },
  {
   "cell_type": "markdown",
   "metadata": {},
   "source": [
    "In this example, the gradient descent is applied on a scaled weight. As a result, only 200 iterations are required, with a common learning rate of 1.5 for both a and b."
   ]
  },
  {
   "cell_type": "code",
   "execution_count": 11,
   "metadata": {
    "collapsed": true
   },
   "outputs": [],
   "source": [
    "def gradient_descent_normalized(a,b):\n",
    "    m=len(df)\n",
    "    max_iteration = 200 # much better, after scaling the weight in a [0,1] range\n",
    "    alpha = 1.5\n",
    "    iter = 0\n",
    "    while True:\n",
    "        iter += 1\n",
    "        # Note that for the derivative of the intercept a, we do not multiply by the weight, because the partial\n",
    "        # derivative of a+b*weight with respect to a is 1, while in respect to b it would be weight\n",
    "        deriva = sum([(a + b*norm_df.weight[i] - df.systolic_press[i]) for i in range(m)]) / m\n",
    "        derivb = sum([(a + b*norm_df.weight[i] - df.systolic_press[i])*norm_df.weight[i] for i in range(m)]) / m\n",
    "        \n",
    "        # now we case use a large learning rate alpha for both parameters\n",
    "        a = a - (alpha*deriva) \n",
    "        b = b - (alpha*derivb)\n",
    "        if (iter > max_iteration):\n",
    "            return [a,b]"
   ]
  },
  {
   "cell_type": "code",
   "execution_count": 12,
   "metadata": {
    "collapsed": false
   },
   "outputs": [
    {
     "name": "stdout",
     "output_type": "stream",
     "text": [
      "Found by gradient descent: 119.863080709 51.6155432137\n",
      "From scipy: 119.863077704 51.6155408837\n"
     ]
    }
   ],
   "source": [
    "a,b = gradient_descent_normalized(0, 0)\n",
    "print(\"Found by gradient descent:\", a,b)\n",
    "print(\"From scipy:\", res.intercept, res.slope)"
   ]
  }
 ],
 "metadata": {
  "kernelspec": {
   "display_name": "Python 3",
   "language": "python",
   "name": "python3"
  },
  "language_info": {
   "codemirror_mode": {
    "name": "ipython",
    "version": 3
   },
   "file_extension": ".py",
   "mimetype": "text/x-python",
   "name": "python",
   "nbconvert_exporter": "python",
   "pygments_lexer": "ipython3",
   "version": "3.6.0"
  }
 },
 "nbformat": 4,
 "nbformat_minor": 2
}
